{
 "cells": [
  {
   "cell_type": "code",
   "execution_count": 23,
   "id": "41885fef",
   "metadata": {},
   "outputs": [],
   "source": [
    "import pandas as pd\n",
    "import matplotlib.pyplot as plt\n",
    "import numpy as np"
   ]
  },
  {
   "cell_type": "code",
   "execution_count": 24,
   "id": "8fd6ed52",
   "metadata": {},
   "outputs": [
    {
     "data": {
      "text/plain": [
       "<zip at 0x2298ee02448>"
      ]
     },
     "execution_count": 24,
     "metadata": {},
     "output_type": "execute_result"
    }
   ],
   "source": [
    "lats = np.random.uniform(low = -90.000, high= 90.000, size = 150)\n",
    "lngs = np.random.uniform(low = -90.000, high= 90.000, size = 150)\n",
    "lat_lngs = zip(lats, lngs)\n",
    "lat_lngs"
   ]
  },
  {
   "cell_type": "code",
   "execution_count": 25,
   "id": "cd96594f",
   "metadata": {},
   "outputs": [],
   "source": [
    "coordinates = list(lat_lngs)"
   ]
  },
  {
   "cell_type": "code",
   "execution_count": 26,
   "id": "7c36398f",
   "metadata": {},
   "outputs": [],
   "source": [
    "from citipy import citipy"
   ]
  },
  {
   "cell_type": "code",
   "execution_count": 27,
   "id": "28bec4dd",
   "metadata": {},
   "outputs": [
    {
     "data": {
      "text/plain": [
       "103"
      ]
     },
     "execution_count": 27,
     "metadata": {},
     "output_type": "execute_result"
    }
   ],
   "source": [
    "cities = []\n",
    "for coordinate in coordinates:\n",
    "    city = citipy.nearest_city(coordinate[0], coordinate[1]).city_name\n",
    "    \n",
    "    if city not in cities:\n",
    "        cities.append(city)\n",
    "        \n",
    "len(cities)"
   ]
  },
  {
   "cell_type": "code",
   "execution_count": 28,
   "id": "90e9909b",
   "metadata": {},
   "outputs": [],
   "source": [
    "import requests\n",
    "\n",
    "from config import weather_api_key"
   ]
  },
  {
   "cell_type": "code",
   "execution_count": 29,
   "id": "3900bb0a",
   "metadata": {},
   "outputs": [
    {
     "name": "stdout",
     "output_type": "stream",
     "text": [
      "http://api.openweathermap.org/data/2.5/weather?units=Imperial&APPID=60ca5e4d24bd3ca27c8342d1e29cfea0\n"
     ]
    }
   ],
   "source": [
    "url = \"http://api.openweathermap.org/data/2.5/weather?units=Imperial&APPID=\" + weather_api_key\n",
    "print(url)"
   ]
  },
  {
   "cell_type": "code",
   "execution_count": 30,
   "id": "05cf693d",
   "metadata": {},
   "outputs": [
    {
     "name": "stdout",
     "output_type": "stream",
     "text": [
      "http://api.openweathermap.org/data/2.5/weather?units=Imperial&APPID=60ca5e4d24bd3ca27c8342d1e29cfea0&q=Boston\n"
     ]
    }
   ],
   "source": [
    "city_url= url+ \"&q=\" + \"Boston\"\n",
    "print(city_url)"
   ]
  },
  {
   "cell_type": "code",
   "execution_count": 31,
   "id": "418960e6",
   "metadata": {},
   "outputs": [
    {
     "data": {
      "text/plain": [
       "<Response [200]>"
      ]
     },
     "execution_count": 31,
     "metadata": {},
     "output_type": "execute_result"
    }
   ],
   "source": [
    "city_weather = requests.get(city_url)\n",
    "city_weather"
   ]
  },
  {
   "cell_type": "code",
   "execution_count": 32,
   "id": "11cddb3f",
   "metadata": {},
   "outputs": [],
   "source": [
    "import time\n",
    "from datetime import datetime"
   ]
  },
  {
   "cell_type": "code",
   "execution_count": 33,
   "id": "daf79807",
   "metadata": {},
   "outputs": [
    {
     "name": "stdout",
     "output_type": "stream",
     "text": [
      "Beginning Data Retrieval   \n",
      "---------------------------\n"
     ]
    }
   ],
   "source": [
    "city_data = []\n",
    "print(\"Beginning Data Retrieval   \")\n",
    "print(\"---------------------------\")\n",
    "\n",
    "#create counters.\n",
    "record_count = 1\n",
    "set_count = 1\n"
   ]
  },
  {
   "cell_type": "code",
   "execution_count": 34,
   "id": "331e7875",
   "metadata": {},
   "outputs": [
    {
     "ename": "SyntaxError",
     "evalue": "invalid syntax (Temp/ipykernel_8048/978511117.py, line 3)",
     "output_type": "error",
     "traceback": [
      "\u001b[1;36m  File \u001b[1;32m\"C:\\Users\\Brian\\AppData\\Local\\Temp/ipykernel_8048/978511117.py\"\u001b[1;36m, line \u001b[1;32m3\u001b[0m\n\u001b[1;33m    if (i % 50 == - and i >= 50):\u001b[0m\n\u001b[1;37m                      ^\u001b[0m\n\u001b[1;31mSyntaxError\u001b[0m\u001b[1;31m:\u001b[0m invalid syntax\n"
     ]
    }
   ],
   "source": [
    "for i in range(len(cities)):\n",
    "    \n",
    "    if (i % 50 == - and i >= 50):\n",
    "            set_count +=1\n",
    "            record_count = 1\n",
    "            time.sleep(60)\n",
    "            \n",
    "    city_url = url+ \"&q=\" + cities[i]"
   ]
  },
  {
   "cell_type": "code",
   "execution_count": 35,
   "id": "3a7721c4",
   "metadata": {},
   "outputs": [
    {
     "name": "stdout",
     "output_type": "stream",
     "text": [
      "Processing Record 1 of Set 1 | hithadhoo\n",
      "Processing Record 2 of Set 1 | ribeira grande\n",
      "Processing Record 3 of Set 1 | hermanus\n",
      "Processing Record 4 of Set 1 | wagar\n",
      "Processing Record 5 of Set 1 | maracas\n",
      "Processing Record 6 of Set 1 | qaanaaq\n",
      "Processing Record 7 of Set 1 | sauda\n",
      "Processing Record 8 of Set 1 | ushuaia\n",
      "Processing Record 9 of Set 1 | kruisfontein\n",
      "Processing Record 10 of Set 1 | tarko-sale\n",
      "Processing Record 11 of Set 1 | husavik\n",
      "Processing Record 12 of Set 1 | taolanaro\n",
      "City not found. Skipping...\n",
      "Processing Record 13 of Set 1 | illoqqortoormiut\n",
      "City not found. Skipping...\n",
      "Processing Record 14 of Set 1 | cape town\n",
      "Processing Record 15 of Set 1 | nanortalik\n",
      "Processing Record 16 of Set 1 | longyearbyen\n",
      "Processing Record 17 of Set 1 | castro\n",
      "Processing Record 18 of Set 1 | matucana\n",
      "Processing Record 19 of Set 1 | bambous virieux\n",
      "Processing Record 20 of Set 1 | port elizabeth\n",
      "Processing Record 21 of Set 1 | ambilobe\n",
      "Processing Record 22 of Set 1 | arraial do cabo\n",
      "Processing Record 23 of Set 1 | los llanos de aridane\n",
      "Processing Record 24 of Set 1 | viedma\n",
      "Processing Record 25 of Set 1 | foumban\n",
      "Processing Record 26 of Set 1 | kefalovrison\n",
      "City not found. Skipping...\n",
      "Processing Record 27 of Set 1 | mahebourg\n",
      "Processing Record 28 of Set 1 | jamestown\n",
      "Processing Record 29 of Set 1 | port alfred\n",
      "Processing Record 30 of Set 1 | ancud\n",
      "Processing Record 31 of Set 1 | toliary\n",
      "City not found. Skipping...\n",
      "Processing Record 32 of Set 1 | praia\n",
      "Processing Record 33 of Set 1 | saint-philippe\n",
      "Processing Record 34 of Set 1 | punta arenas\n",
      "Processing Record 35 of Set 1 | kuche\n",
      "City not found. Skipping...\n",
      "Processing Record 36 of Set 1 | progreso\n",
      "Processing Record 37 of Set 1 | bolungarvik\n",
      "City not found. Skipping...\n",
      "Processing Record 38 of Set 1 | mizan teferi\n",
      "Processing Record 39 of Set 1 | kirovsk\n",
      "Processing Record 40 of Set 1 | llangefni\n",
      "Processing Record 41 of Set 1 | axim\n",
      "Processing Record 42 of Set 1 | oyon\n",
      "Processing Record 43 of Set 1 | yar-sale\n",
      "Processing Record 44 of Set 1 | isla mujeres\n",
      "Processing Record 45 of Set 1 | iqaluit\n",
      "Processing Record 46 of Set 1 | cape coast\n",
      "Processing Record 47 of Set 1 | east london\n",
      "Processing Record 48 of Set 1 | umzimvubu\n",
      "City not found. Skipping...\n",
      "Processing Record 49 of Set 1 | victoria\n",
      "Processing Record 50 of Set 1 | laguna\n",
      "Processing Record 1 of Set 2 | pangnirtung\n",
      "Processing Record 2 of Set 2 | acarau\n",
      "Processing Record 3 of Set 2 | tasiilaq\n",
      "Processing Record 4 of Set 2 | clyde river\n",
      "Processing Record 5 of Set 2 | aflu\n",
      "City not found. Skipping...\n",
      "Processing Record 6 of Set 2 | naryan-mar\n",
      "Processing Record 7 of Set 2 | ghanzi\n",
      "Processing Record 8 of Set 2 | abha\n",
      "Processing Record 9 of Set 2 | harper\n",
      "Processing Record 10 of Set 2 | morondava\n",
      "Processing Record 11 of Set 2 | saint-joseph\n",
      "Processing Record 12 of Set 2 | upernavik\n",
      "Processing Record 13 of Set 2 | tumannyy\n",
      "City not found. Skipping...\n",
      "Processing Record 14 of Set 2 | naron\n",
      "Processing Record 15 of Set 2 | busselton\n",
      "Processing Record 16 of Set 2 | mar del plata\n",
      "Processing Record 17 of Set 2 | marsa matruh\n",
      "Processing Record 18 of Set 2 | salinopolis\n",
      "Processing Record 19 of Set 2 | tsihombe\n",
      "City not found. Skipping...\n",
      "Processing Record 20 of Set 2 | lasa\n",
      "Processing Record 21 of Set 2 | calama\n",
      "Processing Record 22 of Set 2 | chabahar\n",
      "Processing Record 23 of Set 2 | saldanha\n",
      "Processing Record 24 of Set 2 | bredasdorp\n",
      "Processing Record 25 of Set 2 | cidreira\n",
      "Processing Record 26 of Set 2 | sur\n",
      "Processing Record 27 of Set 2 | vincennes\n",
      "Processing Record 28 of Set 2 | kilembe\n",
      "Processing Record 29 of Set 2 | monsenhor gil\n",
      "Processing Record 30 of Set 2 | sarny\n",
      "Processing Record 31 of Set 2 | barentsburg\n",
      "City not found. Skipping...\n",
      "Processing Record 32 of Set 2 | atar\n",
      "Processing Record 33 of Set 2 | anzio\n",
      "Processing Record 34 of Set 2 | verkhnyaya inta\n",
      "Processing Record 35 of Set 2 | barbar\n",
      "City not found. Skipping...\n",
      "Processing Record 36 of Set 2 | ambanja\n",
      "Processing Record 37 of Set 2 | povenets\n",
      "Processing Record 38 of Set 2 | mizpe ramon\n",
      "City not found. Skipping...\n",
      "Processing Record 39 of Set 2 | saint-augustin\n",
      "Processing Record 40 of Set 2 | kalmunai\n",
      "Processing Record 41 of Set 2 | acari\n",
      "Processing Record 42 of Set 2 | maragogi\n",
      "Processing Record 43 of Set 2 | bilma\n",
      "Processing Record 44 of Set 2 | visby\n",
      "Processing Record 45 of Set 2 | opobo\n",
      "City not found. Skipping...\n",
      "Processing Record 46 of Set 2 | nuuk\n",
      "Processing Record 47 of Set 2 | tutoia\n",
      "Processing Record 48 of Set 2 | grand gaube\n",
      "Processing Record 49 of Set 2 | cabedelo\n",
      "Processing Record 50 of Set 2 | ilulissat\n",
      "Processing Record 1 of Set 3 | puerto plata\n",
      "Processing Record 2 of Set 3 | grand river south east\n",
      "City not found. Skipping...\n",
      "Processing Record 3 of Set 3 | chuy\n",
      "-----------------------------\n",
      "Data Retrieval Complete      \n",
      "-----------------------------\n"
     ]
    }
   ],
   "source": [
    "#loop through all the cities in list\n",
    "for i, city in enumerate(cities):\n",
    "    \n",
    "    #group cities in sets of 50 for logging purposes\n",
    "    if (i % 50 == 0 and i >=50):\n",
    "        set_count +=1\n",
    "        record_count = 1\n",
    "        time.sleep(60)\n",
    "        \n",
    "    #create endpoint URl with each city\n",
    "    city_url = url + \"&q=\" + city.replace(\" \", \"+\")\n",
    "    \n",
    "    #log the URL, record, and set numbers and hte city\n",
    "    print(f\"Processing Record {record_count} of Set {set_count} | {city}\")\n",
    "    #add 1 to the record count\n",
    "    record_count +=1\n",
    "    \n",
    "    # Run an API request for each of the cities.\n",
    "    try:\n",
    "        # Parse the JSON and retrieve data.\n",
    "        city_weather = requests.get(city_url).json()\n",
    "        # Parse out the needed data.\n",
    "        city_lat = city_weather[\"coord\"][\"lat\"]\n",
    "        city_lng = city_weather[\"coord\"][\"lon\"]\n",
    "        city_max_temp = city_weather[\"main\"][\"temp_max\"]\n",
    "        city_humidity = city_weather[\"main\"][\"humidity\"]\n",
    "        city_clouds = city_weather[\"clouds\"][\"all\"]\n",
    "        city_wind = city_weather[\"wind\"][\"speed\"]\n",
    "        city_country = city_weather[\"sys\"][\"country\"]\n",
    "        # Convert the date to ISO standard.\n",
    "        city_date = datetime.utcfromtimestamp(city_weather[\"dt\"]).strftime('%Y-%m-%d %H:%M:%S')\n",
    "        # Append the city information into city_data list.\n",
    "        city_data.append({\"City\": city.title(),\n",
    "                          \"Lat\": city_lat,\n",
    "                          \"Lng\": city_lng,\n",
    "                          \"Max Temp\": city_max_temp,\n",
    "                          \"Humidity\": city_humidity,\n",
    "                          \"Cloudiness\": city_clouds,\n",
    "                          \"Wind Speed\": city_wind,\n",
    "                          \"Country\": city_country,\n",
    "                          \"Date\": city_date})\n",
    "\n",
    "# If an error is experienced, skip the city.\n",
    "    except:\n",
    "        print(\"City not found. Skipping...\")\n",
    "        pass\n",
    "\n",
    "# Indicate that Data Loading is complete.\n",
    "print(\"-----------------------------\")\n",
    "print(\"Data Retrieval Complete      \")\n",
    "print(\"-----------------------------\")"
   ]
  },
  {
   "cell_type": "code",
   "execution_count": 40,
   "id": "97ba0132",
   "metadata": {},
   "outputs": [
    {
     "data": {
      "text/html": [
       "<div>\n",
       "<style scoped>\n",
       "    .dataframe tbody tr th:only-of-type {\n",
       "        vertical-align: middle;\n",
       "    }\n",
       "\n",
       "    .dataframe tbody tr th {\n",
       "        vertical-align: top;\n",
       "    }\n",
       "\n",
       "    .dataframe thead th {\n",
       "        text-align: right;\n",
       "    }\n",
       "</style>\n",
       "<table border=\"1\" class=\"dataframe\">\n",
       "  <thead>\n",
       "    <tr style=\"text-align: right;\">\n",
       "      <th></th>\n",
       "      <th>City</th>\n",
       "      <th>Lat</th>\n",
       "      <th>Lng</th>\n",
       "      <th>Max Temp</th>\n",
       "      <th>Humidity</th>\n",
       "      <th>Cloudiness</th>\n",
       "      <th>Wind Speed</th>\n",
       "      <th>Country</th>\n",
       "      <th>Date</th>\n",
       "    </tr>\n",
       "  </thead>\n",
       "  <tbody>\n",
       "    <tr>\n",
       "      <th>0</th>\n",
       "      <td>Hithadhoo</td>\n",
       "      <td>-0.6000</td>\n",
       "      <td>73.0833</td>\n",
       "      <td>83.91</td>\n",
       "      <td>68</td>\n",
       "      <td>100</td>\n",
       "      <td>15.14</td>\n",
       "      <td>MV</td>\n",
       "      <td>2022-03-21 00:59:42</td>\n",
       "    </tr>\n",
       "    <tr>\n",
       "      <th>1</th>\n",
       "      <td>Ribeira Grande</td>\n",
       "      <td>38.5167</td>\n",
       "      <td>-28.7000</td>\n",
       "      <td>57.74</td>\n",
       "      <td>62</td>\n",
       "      <td>93</td>\n",
       "      <td>25.37</td>\n",
       "      <td>PT</td>\n",
       "      <td>2022-03-21 00:59:43</td>\n",
       "    </tr>\n",
       "    <tr>\n",
       "      <th>2</th>\n",
       "      <td>Hermanus</td>\n",
       "      <td>-34.4187</td>\n",
       "      <td>19.2345</td>\n",
       "      <td>67.80</td>\n",
       "      <td>89</td>\n",
       "      <td>2</td>\n",
       "      <td>9.10</td>\n",
       "      <td>ZA</td>\n",
       "      <td>2022-03-21 00:59:43</td>\n",
       "    </tr>\n",
       "    <tr>\n",
       "      <th>3</th>\n",
       "      <td>Wagar</td>\n",
       "      <td>16.1525</td>\n",
       "      <td>36.2032</td>\n",
       "      <td>75.67</td>\n",
       "      <td>57</td>\n",
       "      <td>0</td>\n",
       "      <td>9.06</td>\n",
       "      <td>SD</td>\n",
       "      <td>2022-03-21 00:59:44</td>\n",
       "    </tr>\n",
       "    <tr>\n",
       "      <th>4</th>\n",
       "      <td>Maracas</td>\n",
       "      <td>-13.4411</td>\n",
       "      <td>-40.4308</td>\n",
       "      <td>63.79</td>\n",
       "      <td>89</td>\n",
       "      <td>0</td>\n",
       "      <td>7.02</td>\n",
       "      <td>BR</td>\n",
       "      <td>2022-03-21 00:59:44</td>\n",
       "    </tr>\n",
       "    <tr>\n",
       "      <th>5</th>\n",
       "      <td>Qaanaaq</td>\n",
       "      <td>77.4840</td>\n",
       "      <td>-69.3632</td>\n",
       "      <td>-6.07</td>\n",
       "      <td>93</td>\n",
       "      <td>100</td>\n",
       "      <td>6.96</td>\n",
       "      <td>GL</td>\n",
       "      <td>2022-03-21 00:59:45</td>\n",
       "    </tr>\n",
       "    <tr>\n",
       "      <th>6</th>\n",
       "      <td>Sauda</td>\n",
       "      <td>59.6506</td>\n",
       "      <td>6.3542</td>\n",
       "      <td>26.83</td>\n",
       "      <td>82</td>\n",
       "      <td>3</td>\n",
       "      <td>9.64</td>\n",
       "      <td>NO</td>\n",
       "      <td>2022-03-21 00:59:45</td>\n",
       "    </tr>\n",
       "    <tr>\n",
       "      <th>7</th>\n",
       "      <td>Ushuaia</td>\n",
       "      <td>-54.8000</td>\n",
       "      <td>-68.3000</td>\n",
       "      <td>51.46</td>\n",
       "      <td>66</td>\n",
       "      <td>20</td>\n",
       "      <td>13.80</td>\n",
       "      <td>AR</td>\n",
       "      <td>2022-03-21 00:59:45</td>\n",
       "    </tr>\n",
       "    <tr>\n",
       "      <th>8</th>\n",
       "      <td>Kruisfontein</td>\n",
       "      <td>-34.0033</td>\n",
       "      <td>24.7314</td>\n",
       "      <td>65.97</td>\n",
       "      <td>88</td>\n",
       "      <td>75</td>\n",
       "      <td>2.30</td>\n",
       "      <td>ZA</td>\n",
       "      <td>2022-03-21 00:59:46</td>\n",
       "    </tr>\n",
       "    <tr>\n",
       "      <th>9</th>\n",
       "      <td>Tarko-Sale</td>\n",
       "      <td>64.9225</td>\n",
       "      <td>77.7850</td>\n",
       "      <td>19.92</td>\n",
       "      <td>96</td>\n",
       "      <td>100</td>\n",
       "      <td>5.68</td>\n",
       "      <td>RU</td>\n",
       "      <td>2022-03-21 00:59:37</td>\n",
       "    </tr>\n",
       "  </tbody>\n",
       "</table>\n",
       "</div>"
      ],
      "text/plain": [
       "             City      Lat      Lng  Max Temp  Humidity  Cloudiness  \\\n",
       "0       Hithadhoo  -0.6000  73.0833     83.91        68         100   \n",
       "1  Ribeira Grande  38.5167 -28.7000     57.74        62          93   \n",
       "2        Hermanus -34.4187  19.2345     67.80        89           2   \n",
       "3           Wagar  16.1525  36.2032     75.67        57           0   \n",
       "4         Maracas -13.4411 -40.4308     63.79        89           0   \n",
       "5         Qaanaaq  77.4840 -69.3632     -6.07        93         100   \n",
       "6           Sauda  59.6506   6.3542     26.83        82           3   \n",
       "7         Ushuaia -54.8000 -68.3000     51.46        66          20   \n",
       "8    Kruisfontein -34.0033  24.7314     65.97        88          75   \n",
       "9      Tarko-Sale  64.9225  77.7850     19.92        96         100   \n",
       "\n",
       "   Wind Speed Country                 Date  \n",
       "0       15.14      MV  2022-03-21 00:59:42  \n",
       "1       25.37      PT  2022-03-21 00:59:43  \n",
       "2        9.10      ZA  2022-03-21 00:59:43  \n",
       "3        9.06      SD  2022-03-21 00:59:44  \n",
       "4        7.02      BR  2022-03-21 00:59:44  \n",
       "5        6.96      GL  2022-03-21 00:59:45  \n",
       "6        9.64      NO  2022-03-21 00:59:45  \n",
       "7       13.80      AR  2022-03-21 00:59:45  \n",
       "8        2.30      ZA  2022-03-21 00:59:46  \n",
       "9        5.68      RU  2022-03-21 00:59:37  "
      ]
     },
     "execution_count": 40,
     "metadata": {},
     "output_type": "execute_result"
    }
   ],
   "source": [
    "#convert the list of dictionaries to a pandas dataframe.\n",
    "city_data_df =pd.DataFrame(city_data)\n",
    "city_data_df.head(10)"
   ]
  },
  {
   "cell_type": "code",
   "execution_count": 41,
   "id": "0af52477",
   "metadata": {},
   "outputs": [
    {
     "data": {
      "text/html": [
       "<div>\n",
       "<style scoped>\n",
       "    .dataframe tbody tr th:only-of-type {\n",
       "        vertical-align: middle;\n",
       "    }\n",
       "\n",
       "    .dataframe tbody tr th {\n",
       "        vertical-align: top;\n",
       "    }\n",
       "\n",
       "    .dataframe thead th {\n",
       "        text-align: right;\n",
       "    }\n",
       "</style>\n",
       "<table border=\"1\" class=\"dataframe\">\n",
       "  <thead>\n",
       "    <tr style=\"text-align: right;\">\n",
       "      <th></th>\n",
       "      <th>City</th>\n",
       "      <th>Country</th>\n",
       "      <th>Date</th>\n",
       "      <th>Lat</th>\n",
       "      <th>Lng</th>\n",
       "      <th>Max Temp</th>\n",
       "      <th>Humidity</th>\n",
       "      <th>Cloudiness</th>\n",
       "      <th>Wind Speed</th>\n",
       "    </tr>\n",
       "  </thead>\n",
       "  <tbody>\n",
       "    <tr>\n",
       "      <th>0</th>\n",
       "      <td>Hithadhoo</td>\n",
       "      <td>MV</td>\n",
       "      <td>2022-03-21 00:59:42</td>\n",
       "      <td>-0.6000</td>\n",
       "      <td>73.0833</td>\n",
       "      <td>83.91</td>\n",
       "      <td>68</td>\n",
       "      <td>100</td>\n",
       "      <td>15.14</td>\n",
       "    </tr>\n",
       "    <tr>\n",
       "      <th>1</th>\n",
       "      <td>Ribeira Grande</td>\n",
       "      <td>PT</td>\n",
       "      <td>2022-03-21 00:59:43</td>\n",
       "      <td>38.5167</td>\n",
       "      <td>-28.7000</td>\n",
       "      <td>57.74</td>\n",
       "      <td>62</td>\n",
       "      <td>93</td>\n",
       "      <td>25.37</td>\n",
       "    </tr>\n",
       "    <tr>\n",
       "      <th>2</th>\n",
       "      <td>Hermanus</td>\n",
       "      <td>ZA</td>\n",
       "      <td>2022-03-21 00:59:43</td>\n",
       "      <td>-34.4187</td>\n",
       "      <td>19.2345</td>\n",
       "      <td>67.80</td>\n",
       "      <td>89</td>\n",
       "      <td>2</td>\n",
       "      <td>9.10</td>\n",
       "    </tr>\n",
       "    <tr>\n",
       "      <th>3</th>\n",
       "      <td>Wagar</td>\n",
       "      <td>SD</td>\n",
       "      <td>2022-03-21 00:59:44</td>\n",
       "      <td>16.1525</td>\n",
       "      <td>36.2032</td>\n",
       "      <td>75.67</td>\n",
       "      <td>57</td>\n",
       "      <td>0</td>\n",
       "      <td>9.06</td>\n",
       "    </tr>\n",
       "    <tr>\n",
       "      <th>4</th>\n",
       "      <td>Maracas</td>\n",
       "      <td>BR</td>\n",
       "      <td>2022-03-21 00:59:44</td>\n",
       "      <td>-13.4411</td>\n",
       "      <td>-40.4308</td>\n",
       "      <td>63.79</td>\n",
       "      <td>89</td>\n",
       "      <td>0</td>\n",
       "      <td>7.02</td>\n",
       "    </tr>\n",
       "    <tr>\n",
       "      <th>...</th>\n",
       "      <td>...</td>\n",
       "      <td>...</td>\n",
       "      <td>...</td>\n",
       "      <td>...</td>\n",
       "      <td>...</td>\n",
       "      <td>...</td>\n",
       "      <td>...</td>\n",
       "      <td>...</td>\n",
       "      <td>...</td>\n",
       "    </tr>\n",
       "    <tr>\n",
       "      <th>83</th>\n",
       "      <td>Grand Gaube</td>\n",
       "      <td>MU</td>\n",
       "      <td>2022-03-21 01:01:17</td>\n",
       "      <td>-20.0064</td>\n",
       "      <td>57.6608</td>\n",
       "      <td>77.38</td>\n",
       "      <td>86</td>\n",
       "      <td>61</td>\n",
       "      <td>1.01</td>\n",
       "    </tr>\n",
       "    <tr>\n",
       "      <th>84</th>\n",
       "      <td>Cabedelo</td>\n",
       "      <td>BR</td>\n",
       "      <td>2022-03-21 01:01:18</td>\n",
       "      <td>-6.9811</td>\n",
       "      <td>-34.8339</td>\n",
       "      <td>80.35</td>\n",
       "      <td>79</td>\n",
       "      <td>61</td>\n",
       "      <td>10.85</td>\n",
       "    </tr>\n",
       "    <tr>\n",
       "      <th>85</th>\n",
       "      <td>Ilulissat</td>\n",
       "      <td>GL</td>\n",
       "      <td>2022-03-21 01:01:18</td>\n",
       "      <td>69.2167</td>\n",
       "      <td>-51.1000</td>\n",
       "      <td>-5.78</td>\n",
       "      <td>54</td>\n",
       "      <td>0</td>\n",
       "      <td>1.14</td>\n",
       "    </tr>\n",
       "    <tr>\n",
       "      <th>86</th>\n",
       "      <td>Puerto Plata</td>\n",
       "      <td>DO</td>\n",
       "      <td>2022-03-21 01:02:18</td>\n",
       "      <td>19.7934</td>\n",
       "      <td>-70.6884</td>\n",
       "      <td>76.44</td>\n",
       "      <td>85</td>\n",
       "      <td>1</td>\n",
       "      <td>9.82</td>\n",
       "    </tr>\n",
       "    <tr>\n",
       "      <th>87</th>\n",
       "      <td>Chuy</td>\n",
       "      <td>UY</td>\n",
       "      <td>2022-03-21 01:02:19</td>\n",
       "      <td>-33.6971</td>\n",
       "      <td>-53.4616</td>\n",
       "      <td>64.36</td>\n",
       "      <td>47</td>\n",
       "      <td>90</td>\n",
       "      <td>11.56</td>\n",
       "    </tr>\n",
       "  </tbody>\n",
       "</table>\n",
       "<p>88 rows × 9 columns</p>\n",
       "</div>"
      ],
      "text/plain": [
       "              City Country                 Date      Lat      Lng  Max Temp  \\\n",
       "0        Hithadhoo      MV  2022-03-21 00:59:42  -0.6000  73.0833     83.91   \n",
       "1   Ribeira Grande      PT  2022-03-21 00:59:43  38.5167 -28.7000     57.74   \n",
       "2         Hermanus      ZA  2022-03-21 00:59:43 -34.4187  19.2345     67.80   \n",
       "3            Wagar      SD  2022-03-21 00:59:44  16.1525  36.2032     75.67   \n",
       "4          Maracas      BR  2022-03-21 00:59:44 -13.4411 -40.4308     63.79   \n",
       "..             ...     ...                  ...      ...      ...       ...   \n",
       "83     Grand Gaube      MU  2022-03-21 01:01:17 -20.0064  57.6608     77.38   \n",
       "84        Cabedelo      BR  2022-03-21 01:01:18  -6.9811 -34.8339     80.35   \n",
       "85       Ilulissat      GL  2022-03-21 01:01:18  69.2167 -51.1000     -5.78   \n",
       "86    Puerto Plata      DO  2022-03-21 01:02:18  19.7934 -70.6884     76.44   \n",
       "87            Chuy      UY  2022-03-21 01:02:19 -33.6971 -53.4616     64.36   \n",
       "\n",
       "    Humidity  Cloudiness  Wind Speed  \n",
       "0         68         100       15.14  \n",
       "1         62          93       25.37  \n",
       "2         89           2        9.10  \n",
       "3         57           0        9.06  \n",
       "4         89           0        7.02  \n",
       "..       ...         ...         ...  \n",
       "83        86          61        1.01  \n",
       "84        79          61       10.85  \n",
       "85        54           0        1.14  \n",
       "86        85           1        9.82  \n",
       "87        47          90       11.56  \n",
       "\n",
       "[88 rows x 9 columns]"
      ]
     },
     "execution_count": 41,
     "metadata": {},
     "output_type": "execute_result"
    }
   ],
   "source": [
    "column_update_city_data_df=[\"City\", \"Country\", \"Date\", \"Lat\", \"Lng\", \"Max Temp\", \"Humidity\", \"Cloudiness\", \"Wind Speed\"]\n",
    "city_data_df = city_data_df[column_update_city_data_df]\n",
    "city_data_df"
   ]
  },
  {
   "cell_type": "code",
   "execution_count": 42,
   "id": "c309f8d3",
   "metadata": {},
   "outputs": [],
   "source": [
    "# Create the output file (CSV).\n",
    "output_data_file = \"weather_data/cities.csv\"\n",
    "# Export the City_Data into a CSV.\n",
    "city_data_df.to_csv(output_data_file, index_label=\"City_ID\")"
   ]
  },
  {
   "cell_type": "code",
   "execution_count": 43,
   "id": "b170007c",
   "metadata": {},
   "outputs": [],
   "source": [
    "#extract relevant fields from dataframe for plotting\n",
    "lats = city_data_df[\"Lat\"]\n",
    "max_temps = city_data_df[\"Max Temp\"]\n",
    "humidity= city_data_df[\"Humidity\"]\n",
    "cloudiness = city_data_df[\"Cloudiness\"]\n",
    "wind_speed = city_data_df[\"Wind Speed\"]"
   ]
  },
  {
   "cell_type": "code",
   "execution_count": 44,
   "id": "c4c57bf0",
   "metadata": {},
   "outputs": [
    {
     "data": {
      "text/plain": [
       "1647824653.2426734"
      ]
     },
     "execution_count": 44,
     "metadata": {},
     "output_type": "execute_result"
    }
   ],
   "source": [
    "import time\n",
    "today= time.time()\n",
    "today"
   ]
  },
  {
   "cell_type": "code",
   "execution_count": 45,
   "id": "87fcbdfe",
   "metadata": {},
   "outputs": [
    {
     "data": {
      "image/png": "[encoded data removed]",
      "text/plain": [
       "<Figure size 432x288 with 1 Axes>"
      ]
     },
     "metadata": {
      "needs_background": "light"
     },
     "output_type": "display_data"
    }
   ],
   "source": [
    "import time\n",
    "\n",
    "plt.scatter(lats,\n",
    "           max_temps,\n",
    "           edgecolor=\"black\", linewidths=1, marker = \"o\",\n",
    "           alpha = 0.8, label= \"Cities\")\n",
    "\n",
    "plt.title(f\"City Latitudes vs. Max Temperature\" + time.strftime(\"%x\"))\n",
    "plt.ylabel(\"Max Temperature (F)\")\n",
    "plt.xlabel(\"Latitude\")\n",
    "plt.grid(True)\n",
    "\n",
    "plt.savefig(\"weather_data/Fig1.png\")\n",
    "plt.show()"
   ]
  },
  {
   "cell_type": "code",
   "execution_count": 46,
   "id": "f34df6ce",
   "metadata": {},
   "outputs": [
    {
     "data": {
      "image/png": "[encoded data removed]",
      "text/plain": [
       "<Figure size 432x288 with 1 Axes>"
      ]
     },
     "metadata": {
      "needs_background": "light"
     },
     "output_type": "display_data"
    }
   ],
   "source": [
    "# Import time module\n",
    "import time\n",
    "\n",
    "# Build the scatter plot for latitude vs. max temperature.\n",
    "plt.scatter(lats,\n",
    "            max_temps,\n",
    "            edgecolor=\"black\", linewidths=1, marker=\"o\",\n",
    "            alpha=0.8, label=\"Cities\")\n",
    "\n",
    "# Incorporate the other graph properties.\n",
    "plt.title(f\"City Latitude vs. Max Temperature \"+ time.strftime(\"%x\"))\n",
    "plt.ylabel(\"Max Temperature (F)\")\n",
    "plt.xlabel(\"Latitude\")\n",
    "plt.grid(True)\n",
    "\n",
    "# Save the figure.\n",
    "plt.savefig(\"weather_data/Fig1.png\")\n",
    "\n",
    "# Show plot.\n",
    "plt.show()"
   ]
  },
  {
   "cell_type": "code",
   "execution_count": 47,
   "id": "d20a69a8",
   "metadata": {},
   "outputs": [
    {
     "data": {
      "image/png": "[encoded data removed]",
      "text/plain": [
       "<Figure size 432x288 with 1 Axes>"
      ]
     },
     "metadata": {
      "needs_background": "light"
     },
     "output_type": "display_data"
    }
   ],
   "source": [
    "plt.scatter(lats,\n",
    "           humidity,\n",
    "           edgecolor=\"black\", linewidths=1, marker=\"o\",\n",
    "           alpha=0.8, label=\"Cities\")\n",
    "\n",
    "plt.title(f\"City Latitude vs. Humidity \" + time.strftime(\"%x\"))\n",
    "plt.ylabel(\"Humidity (%)\")\n",
    "plt.xlabel(\"Latitude\")\n",
    "plt.grid(True)\n",
    "# Save the figure.\n",
    "plt.savefig(\"weather_data/Fig2.png\")\n",
    "# Show plot.\n",
    "plt.show()"
   ]
  },
  {
   "cell_type": "code",
   "execution_count": 48,
   "id": "cef0a9d6",
   "metadata": {},
   "outputs": [
    {
     "data": {
      "image/png": "[encoded data removed]",
      "text/plain": [
       "<Figure size 432x288 with 1 Axes>"
      ]
     },
     "metadata": {
      "needs_background": "light"
     },
     "output_type": "display_data"
    }
   ],
   "source": [
    "# Build the scatter plots for latitude vs. cloudiness.\n",
    "plt.scatter(lats,\n",
    "            cloudiness,\n",
    "            edgecolor=\"black\", linewidths=1, marker=\"o\",\n",
    "            alpha=0.8, label=\"Cities\")\n",
    "\n",
    "# Incorporate the other graph properties.\n",
    "plt.title(f\"City Latitude vs. Cloudiness (%) \"+ time.strftime(\"%x\"))\n",
    "plt.ylabel(\"Cloudiness (%)\")\n",
    "plt.xlabel(\"Latitude\")\n",
    "plt.grid(True)\n",
    "# Save the figure.\n",
    "plt.savefig(\"weather_data/Fig3.png\")\n",
    "# Show plot.\n",
    "plt.show()"
   ]
  },
  {
   "cell_type": "code",
   "execution_count": 49,
   "id": "29bb3910",
   "metadata": {},
   "outputs": [
    {
     "data": {
      "image/png": "[encoded data removed]",
      "text/plain": [
       "<Figure size 432x288 with 1 Axes>"
      ]
     },
     "metadata": {
      "needs_background": "light"
     },
     "output_type": "display_data"
    }
   ],
   "source": [
    "# Build the scatter plots for latitude vs. wind speed.\n",
    "plt.scatter(lats,\n",
    "            wind_speed,\n",
    "            edgecolor=\"black\", linewidths=1, marker=\"o\",\n",
    "            alpha=0.8, label=\"Cities\")\n",
    "\n",
    "# Incorporate the other graph properties.\n",
    "plt.title(f\"City Latitude vs. Wind Speed \"+ time.strftime(\"%x\"))\n",
    "plt.ylabel(\"Wind Speed (mph)\")\n",
    "plt.xlabel(\"Latitude\")\n",
    "plt.grid(True)\n",
    "# Save the figure.\n",
    "plt.savefig(\"weather_data/Fig4.png\")\n",
    "# Show plot.\n",
    "plt.show()"
   ]
  },
  {
   "cell_type": "code",
   "execution_count": 51,
   "id": "4749ec87",
   "metadata": {},
   "outputs": [],
   "source": [
    "from scipy.stats import linregress\n",
    "\n",
    "def plot_linear_regression(x_values, y_values, title, y_label, text_coordinates):\n",
    "    \n",
    "    (slope, intercept, r_value, p_value, std_err) = linregress(x_values, y_values)\n",
    "    \n",
    "    #calculate regression line \"y values' from the slope and intercept\n",
    "    regress_values = x_values * slope + intercept\n",
    "    #get equation of the line\n",
    "    line_eq= \"y =\" + str(round(slope,2)) + \"x + \" + str(round(intercept,2))\n",
    "    #create scatter plot and plot regression line\n",
    "    plt.scatter(x_values, y_values)\n",
    "    plt.plot(x_values, regress_values, \"r\")\n",
    "    #annotate text for the line equation\n",
    "    plt.annotate(line_eq, text_coordinates, fontsize=15, color=\"red\")\n",
    "    plt.title(title)\n",
    "    plt.xlabel(\"Latitude\")\n",
    "    plt.ylabel(y_label)\n",
    "    plt.show()"
   ]
  },
  {
   "cell_type": "code",
   "execution_count": 53,
   "id": "02613046",
   "metadata": {},
   "outputs": [
    {
     "data": {
      "text/plain": [
       "City                 Longyearbyen\n",
       "Country                        SJ\n",
       "Date          2022-03-21 00:59:48\n",
       "Lat                       78.2186\n",
       "Lng                       15.6401\n",
       "Max Temp                    22.84\n",
       "Humidity                       86\n",
       "Cloudiness                    100\n",
       "Wind Speed                  32.21\n",
       "Name: 13, dtype: object"
      ]
     },
     "execution_count": 53,
     "metadata": {},
     "output_type": "execute_result"
    }
   ],
   "source": [
    "index13=city_data_df.loc[13]\n",
    "index13"
   ]
  },
  {
   "cell_type": "code",
   "execution_count": 55,
   "id": "7c628134",
   "metadata": {},
   "outputs": [],
   "source": [
    "northern_hemi_df = city_data_df.loc[(city_data_df[\"Lat\"] >= 0)].head()\n",
    "southern_hemi_df = city_data_df.loc[(city_data_df[\"Lat\"] < 0)].head()"
   ]
  },
  {
   "cell_type": "code",
   "execution_count": 56,
   "id": "7c2c8cb4",
   "metadata": {},
   "outputs": [
    {
     "data": {
      "image/png": "[encoded data removed]",
      "text/plain": [
       "<Figure size 432x288 with 1 Axes>"
      ]
     },
     "metadata": {
      "needs_background": "light"
     },
     "output_type": "display_data"
    }
   ],
   "source": [
    "x_values = northern_hemi_df[\"Lat\"]\n",
    "y_values=northern_hemi_df[\"Max Temp\"]\n",
    "\n",
    "plot_linear_regression(x_values, y_values,\n",
    "                      \"Linear Regression on the Northern Hemisphere \\\n",
    "                      for maximum Temperature\", \"Max Temp\",(10,40))"
   ]
  },
  {
   "cell_type": "code",
   "execution_count": 58,
   "id": "7b770a9b",
   "metadata": {},
   "outputs": [
    {
     "data": {
      "image/png": "[encoded data removed]",
      "text/plain": [
       "<Figure size 432x288 with 1 Axes>"
      ]
     },
     "metadata": {
      "needs_background": "light"
     },
     "output_type": "display_data"
    }
   ],
   "source": [
    "# Linear regression on the Southern Hemisphere\n",
    "x_values = southern_hemi_df[\"Lat\"]\n",
    "y_values = southern_hemi_df[\"Max Temp\"]\n",
    "# Call the function.\n",
    "plot_linear_regression(x_values, y_values,\n",
    "                       'Linear Regression on the Southern Hemisphere \\\n",
    "                        for Maximum Temperature', 'Max Temp',(-50,90))"
   ]
  },
  {
   "cell_type": "code",
   "execution_count": 59,
   "id": "90211c7c",
   "metadata": {},
   "outputs": [
    {
     "data": {
      "image/png": "[encoded data removed]",
      "text/plain": [
       "<Figure size 432x288 with 1 Axes>"
      ]
     },
     "metadata": {
      "needs_background": "light"
     },
     "output_type": "display_data"
    }
   ],
   "source": [
    "x_values = northern_hemi_df[\"Lat\"]\n",
    "y_values = northern_hemi_df[\"Humidity\"]\n",
    "\n",
    "plot_linear_regression(x_values, y_values,\n",
    "                      \"Linear Regression on the Northern Hemisphere \\\n",
    "                      for % Humidity\", \"% Humidity\",(40,10))"
   ]
  },
  {
   "cell_type": "code",
   "execution_count": 62,
   "id": "c2b9600f",
   "metadata": {},
   "outputs": [
    {
     "data": {
      "image/png": "[encoded data removed]",
      "text/plain": [
       "<Figure size 432x288 with 1 Axes>"
      ]
     },
     "metadata": {
      "needs_background": "light"
     },
     "output_type": "display_data"
    }
   ],
   "source": [
    "# Linear regression on the Southern Hemisphere\n",
    "x_values = southern_hemi_df[\"Lat\"]\n",
    "y_values = southern_hemi_df[\"Humidity\"]\n",
    "# Call the function.\n",
    "plot_linear_regression(x_values, y_values,\n",
    "                       'Linear Regression on the Southern Hemisphere \\\n",
    "                        for % Humidity', '% Humidity',(-50,15))"
   ]
  },
  {
   "cell_type": "code",
   "execution_count": 63,
   "id": "e9773f2e",
   "metadata": {},
   "outputs": [
    {
     "data": {
      "image/png": "[encoded data removed]",
      "text/plain": [
       "<Figure size 432x288 with 1 Axes>"
      ]
     },
     "metadata": {
      "needs_background": "light"
     },
     "output_type": "display_data"
    }
   ],
   "source": [
    "x_values = northern_hemi_df[\"Lat\"]\n",
    "y_values = northern_hemi_df[\"Cloudiness\"]\n",
    "\n",
    "plot_linear_regression(x_values, y_values,\n",
    "                      \"Linear Regression on the Northern Hemisphere \\\n",
    "                      for % Cloudiness\", \"% Cloudiness\",(40,10))"
   ]
  },
  {
   "cell_type": "code",
   "execution_count": 65,
   "id": "c3fd7f62",
   "metadata": {},
   "outputs": [
    {
     "data": {
      "image/png": "[encoded data removed]",
      "text/plain": [
       "<Figure size 432x288 with 1 Axes>"
      ]
     },
     "metadata": {
      "needs_background": "light"
     },
     "output_type": "display_data"
    }
   ],
   "source": [
    "# Linear regression on the Southern Hemisphere\n",
    "x_values = southern_hemi_df[\"Lat\"]\n",
    "y_values = southern_hemi_df[\"Cloudiness\"]\n",
    "# Call the function.\n",
    "plot_linear_regression(x_values, y_values,\n",
    "                       'Linear Regression on the Southern Hemisphere \\\n",
    "                        for % Cloudiness', '% Cloudiness',(-50,60))"
   ]
  },
  {
   "cell_type": "code",
   "execution_count": 67,
   "id": "bb5758ee",
   "metadata": {},
   "outputs": [
    {
     "data": {
      "image/png": "[encoded data removed]",
      "text/plain": [
       "<Figure size 432x288 with 1 Axes>"
      ]
     },
     "metadata": {
      "needs_background": "light"
     },
     "output_type": "display_data"
    }
   ],
   "source": [
    "# Linear regression on the Northern Hemisphere\n",
    "x_values = northern_hemi_df[\"Lat\"]\n",
    "y_values = northern_hemi_df[\"Wind Speed\"]\n",
    "# Call the function.\n",
    "plot_linear_regression(x_values, y_values,\n",
    "                       'Linear Regression on the Northern Hemisphere \\\n",
    "                        for Wind Speed', 'Wind Speed',(40,35))"
   ]
  },
  {
   "cell_type": "code",
   "execution_count": 69,
   "id": "aa75a17e",
   "metadata": {},
   "outputs": [
    {
     "data": {
      "image/png": "[encoded data removed]",
      "text/plain": [
       "<Figure size 432x288 with 1 Axes>"
      ]
     },
     "metadata": {
      "needs_background": "light"
     },
     "output_type": "display_data"
    }
   ],
   "source": [
    "# Linear regression on the Southern Hemisphere\n",
    "x_values = southern_hemi_df[\"Lat\"]\n",
    "y_values = southern_hemi_df[\"Wind Speed\"]\n",
    "# Call the function.\n",
    "plot_linear_regression(x_values, y_values,\n",
    "                       'Linear Regression on the Southern Hemisphere \\\n",
    "                        for Wind Speed', 'Wind Speed',(-50,35))"
   ]
  },
  {
   "cell_type": "code",
   "execution_count": null,
   "id": "8109c998",
   "metadata": {},
   "outputs": [],
   "source": []
  }
 ],
 "metadata": {
  "kernelspec": {
   "display_name": "PythonData",
   "language": "python",
   "name": "pythondata"
  },
  "language_info": {
   "codemirror_mode": {
    "name": "ipython",
    "version": 3
   },
   "file_extension": ".py",
   "mimetype": "text/x-python",
   "name": "python",
   "nbconvert_exporter": "python",
   "pygments_lexer": "ipython3",
   "version": "3.7.11"
  }
 },
 "nbformat": 4,
 "nbformat_minor": 5
}
