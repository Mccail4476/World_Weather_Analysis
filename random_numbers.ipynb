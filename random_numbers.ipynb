{
 "cells": [
  {
   "cell_type": "code",
   "execution_count": 1,
   "id": "d11af30c",
   "metadata": {},
   "outputs": [],
   "source": [
    "import random\n"
   ]
  },
  {
   "cell_type": "code",
   "execution_count": 6,
   "id": "a49f49f9",
   "metadata": {},
   "outputs": [
    {
     "data": {
      "text/plain": [
       "0.7387845626437668"
      ]
     },
     "execution_count": 6,
     "metadata": {},
     "output_type": "execute_result"
    }
   ],
   "source": [
    "random.random()"
   ]
  },
  {
   "cell_type": "code",
   "execution_count": 8,
   "id": "0a03c526",
   "metadata": {},
   "outputs": [
    {
     "data": {
      "text/plain": [
       "37.10351712917549"
      ]
     },
     "execution_count": 8,
     "metadata": {},
     "output_type": "execute_result"
    }
   ],
   "source": [
    "random_number = random.randint(-90, 89) + random.random()\n",
    "random_number"
   ]
  },
  {
   "cell_type": "code",
   "execution_count": 13,
   "id": "4eae68c1",
   "metadata": {},
   "outputs": [],
   "source": [
    "x = 1\n",
    "latitudes = []\n",
    "while x < 11:\n",
    "    random_lat = random.randint(-90, 89) + random.random()\n",
    "    latitudes.append(random_lat)\n",
    "    x += 1"
   ]
  },
  {
   "cell_type": "code",
   "execution_count": 14,
   "id": "e33b98f4",
   "metadata": {},
   "outputs": [
    {
     "data": {
      "text/plain": [
       "[-10.574398982777623,\n",
       " -16.385435973483386,\n",
       " 81.24181745274184,\n",
       " -21.974056304574766,\n",
       " 1.4333661113876965,\n",
       " 78.75910776816691,\n",
       " 70.57163806126779,\n",
       " 64.32553281109816,\n",
       " 16.202936766814528,\n",
       " -52.773510991038556]"
      ]
     },
     "execution_count": 14,
     "metadata": {},
     "output_type": "execute_result"
    }
   ],
   "source": [
    "latitudes"
   ]
  },
  {
   "cell_type": "code",
   "execution_count": 16,
   "id": "2440a34a",
   "metadata": {},
   "outputs": [
    {
     "data": {
      "text/plain": [
       "-60"
      ]
     },
     "execution_count": 16,
     "metadata": {},
     "output_type": "execute_result"
    }
   ],
   "source": [
    "random.randrange(-90,80, step =3)"
   ]
  },
  {
   "cell_type": "code",
   "execution_count": 17,
   "id": "cea7a8e3",
   "metadata": {},
   "outputs": [
    {
     "data": {
      "text/plain": [
       "58.04550135159232"
      ]
     },
     "execution_count": 17,
     "metadata": {},
     "output_type": "execute_result"
    }
   ],
   "source": [
    "random.uniform(-90,90)"
   ]
  },
  {
   "cell_type": "code",
   "execution_count": 21,
   "id": "828725d1",
   "metadata": {},
   "outputs": [],
   "source": [
    "import numpy as np"
   ]
  },
  {
   "cell_type": "code",
   "execution_count": 23,
   "id": "b4e7b7d2",
   "metadata": {},
   "outputs": [
    {
     "data": {
      "text/plain": [
       "array([ 24.03462064,  52.93214893,  30.56354056,  42.50385924,\n",
       "       -75.30824627, -60.29260155,  -3.88882198,  86.91886183,\n",
       "        -4.4802738 ,  55.5261271 ,  54.46748045,  74.09734882,\n",
       "        20.08170681,  50.48622053,  62.04286279,   7.84215176,\n",
       "        43.60179385,  26.97545022,  14.38745915,  59.5396181 ,\n",
       "        39.21854917, -54.47558547,  42.93075958,   3.1076542 ,\n",
       "       -57.50638482,   2.76729637, -12.89964314,  30.24882377,\n",
       "       -10.00041977,  40.40330098,  41.61199735,  74.64267558,\n",
       "        23.5574838 ,  86.14809035,  17.50807215,  61.06418448,\n",
       "         3.97333574, -41.06206546,  51.63909608, -87.93867149,\n",
       "        -2.33075745, -20.5553854 , -88.26782227,  51.92604975,\n",
       "       -69.19713116,  35.91676704, -33.29338125,  59.43988622,\n",
       "       -67.14664611,  -0.17218314])"
      ]
     },
     "execution_count": 23,
     "metadata": {},
     "output_type": "execute_result"
    }
   ],
   "source": [
    "np.random.uniform(-90.000, 90.000, size= 50)"
   ]
  },
  {
   "cell_type": "code",
   "execution_count": 24,
   "id": "7ad28bb1",
   "metadata": {},
   "outputs": [],
   "source": [
    "import timeit"
   ]
  },
  {
   "cell_type": "code",
   "execution_count": 26,
   "id": "e85af715",
   "metadata": {},
   "outputs": [
    {
     "name": "stdout",
     "output_type": "stream",
     "text": [
      "12.2 µs ± 36.6 ns per loop (mean ± std. dev. of 7 runs, 100000 loops each)\n"
     ]
    }
   ],
   "source": [
    "%timeit np.random.uniform(-90.000, 90.000, size= 1500)"
   ]
  },
  {
   "cell_type": "code",
   "execution_count": 28,
   "id": "5b8d73f3",
   "metadata": {},
   "outputs": [
    {
     "name": "stdout",
     "output_type": "stream",
     "text": [
      "1.54 ms ± 2.52 µs per loop (mean ± std. dev. of 7 runs, 1000 loops each)\n"
     ]
    }
   ],
   "source": [
    "def latitudes(size):\n",
    "    latitudes = []\n",
    "    x= 0\n",
    "    while x <(size):\n",
    "        random_lat = random.randint(-90,90) + random.random()\n",
    "        latitudes.append(random_lat)\n",
    "        x +=1\n",
    "    return latitudes\n",
    "%timeit latitudes(1500)\n",
    "    "
   ]
  },
  {
   "cell_type": "code",
   "execution_count": 29,
   "id": "216e16e9",
   "metadata": {},
   "outputs": [
    {
     "name": "stdout",
     "output_type": "stream",
     "text": [
      "12.2 µs ± 37.8 ns per loop (mean ± std. dev. of 7 runs, 100000 loops each)\n"
     ]
    }
   ],
   "source": [
    "%timeit np.random.uniform(-90.000, 90.000, size = 1500)"
   ]
  },
  {
   "cell_type": "code",
   "execution_count": null,
   "id": "9fcf3249",
   "metadata": {},
   "outputs": [],
   "source": []
  }
 ],
 "metadata": {
  "kernelspec": {
   "display_name": "PythonData",
   "language": "python",
   "name": "pythondata"
  },
  "language_info": {
   "codemirror_mode": {
    "name": "ipython",
    "version": 3
   },
   "file_extension": ".py",
   "mimetype": "text/x-python",
   "name": "python",
   "nbconvert_exporter": "python",
   "pygments_lexer": "ipython3",
   "version": "3.7.11"
  }
 },
 "nbformat": 4,
 "nbformat_minor": 5
}
